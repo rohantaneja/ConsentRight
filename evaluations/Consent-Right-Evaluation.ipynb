{
 "metadata": {
  "language_info": {
   "codemirror_mode": {
    "name": "ipython",
    "version": 3
   },
   "file_extension": ".py",
   "mimetype": "text/x-python",
   "name": "python",
   "nbconvert_exporter": "python",
   "pygments_lexer": "ipython3",
   "version": "3.9.4"
  },
  "orig_nbformat": 2,
  "kernelspec": {
   "name": "python394jvsc74a57bd050292dbb1f747f7151d445135d392af3138fb3c65386d17d9510cb605222b10b",
   "display_name": "Python 3.9.4 64-bit"
  },
  "metadata": {
   "interpreter": {
    "hash": "b0fa6594d8f4cbf19f97940f81e996739fb7646882a419484c72d19e05852a7e"
   }
  }
 },
 "nbformat": 4,
 "nbformat_minor": 2,
 "cells": [
  {
   "cell_type": "code",
   "execution_count": null,
   "metadata": {},
   "outputs": [],
   "source": [
    "# Initialize Parameters"
   ]
  },
  {
   "cell_type": "code",
   "execution_count": 12,
   "metadata": {},
   "outputs": [],
   "source": [
    "from selenium import webdriver\n",
    "import time\n",
    "\n",
    "opt = webdriver.ChromeOptions()\n",
    "opt.add_argument(\"load-extension=~/GitHub/ConsentRight\")\n",
    "driver = webdriver.Chrome(options = opt)"
   ]
  },
  {
   "cell_type": "code",
   "execution_count": null,
   "metadata": {},
   "outputs": [],
   "source": [
    "######################\n",
    "## Assisted Testing ##\n",
    "######################\n",
    "### QC and OT only ###\n",
    "######################\n",
    "\n",
    "# src - https://trends.builtwith.com/websitelist/OneTrust/Ireland\n",
    "ot_sites = ['onetrust.com','arstechnica.com','zdnet.com','rte.ie','thejournal.ie']\n",
    "# src - https://trends.builtwith.com/websitelist/Quantcast-CMP-System/Ireland\n",
    "qc_sites = ['pcgamer.com','gta5-mods.com','winteriscoming.net','lovin.ie', 'collegetimes.com']\n",
    "\n",
    "assist_list = []\n",
    "\n",
    "i = 1\n",
    "for link in ot_sites:\n",
    "    before = str(link) + '-before.png'\n",
    "    after =  str(link) + '-after.png'\n",
    "    driver.set_window_size(1280,720)\n",
    "\n",
    "    driver.get('https://' + str(link))\n",
    "    time.sleep(0.5)\n",
    "    driver.save_screenshot('ss/' + before)\n",
    "    time.sleep(2.5)\n",
    "    driver.save_screenshot('ss/' + after)\n",
    "\n",
    "    full = driver.find_element_by_class_name('consent-right').get_attribute(\"textContent\")\n",
    "    scrape = [i,full.count('\\n')-1]\n",
    "    i += 1\n",
    "    assist_list.append(scrape)\n",
    "\n",
    "for link in qc_sites:\n",
    "    before = str(link) + '-before.png'\n",
    "    after =  str(link) + '-after.png'\n",
    "    driver.set_window_size(1280,720)\n",
    "\n",
    "    driver.get('https://' + str(link))\n",
    "    time.sleep(0.5)\n",
    "    driver.save_screenshot('ss/' + before)\n",
    "    time.sleep(2.5)\n",
    "    driver.save_screenshot('ss/' + after)\n",
    "\n",
    "    full = driver.find_element_by_class_name('consent-right').get_attribute(\"textContent\")\n",
    "    scrape = [i,full.count('\\n')-1]\n",
    "    i += 1\n",
    "    assist_list.append(scrape)\n",
    "print(assist_list)"
   ]
  },
  {
   "cell_type": "code",
   "execution_count": 13,
   "metadata": {},
   "outputs": [],
   "source": [
    "#######################\n",
    "## Automated Testing ##\n",
    "#######################\n",
    "# Note: Toggle Mode Within Popup as the Special Tab permission is restricted\n",
    "\n",
    "# curated list from user feedback\n",
    "friends_sites = ['netflix.com', 'facebook.com', 'twitter.com','google.com', 'youtube.com', 'reddit.com', \n",
    "                 'kraken.com', 'steam.com', 'linkedin.com', 'indeed.com','*.*myworkdayjobs.com', 'gmail.com'\n",
    "                 'amazon.com', 'flipkart.com', 'instagram.com', 'omegle.com', 'github.com', 'stackoverflow.com',\n",
    "                 'producthunt.com', 'udemy.com', 'geeksforgeeks.org', 'forbes.com', 'bodybuilding.com', 'dev.to',\n",
    "                 'myprotein.com', 'fitgirl-repacks.site', 'pintrest.com', 'dribble.com', 'expedia.com', 'makemytrip.com',\n",
    "                 'shutterstock.com', 'thesaurus.com', 'imdb.com', 'espn.com', 'blogger.com', 'wordpress.com', 'khanacademy.org'\n",
    "                 'miniclip.com', 'riotgames.com', 'grammarly.com', 'inshorts.com', 'nike.com', 'paytm.com', 'headspace.com', 'economictimes.com',\n",
    "                 'discord.com', 'maps.google.com', 'hulu.com', 'disneyplus.com']\n",
    "\n",
    "# src - http://s3.amazonaws.com/alexa-static/top-1m.csv.zip\n",
    "high_traffic_sites = ['google.com', 'youtube.com', 'tmall.com', 'baidu.com', 'qq.com', 'sohu.com', 'facebook.com', 'taobao.com', '360.cn', 'jd.com', 'amazon.com', 'yahoo.com', 'wikipedia.org',\n",
    "                      'zoom.us', 'weibo.com', 'sina.com.cn', 'xinhuanet.com', 'live.com', 'reddit.com', 'microsoft.com', 'netflix.com', 'office.com', 'zhanqi.tv', 'panda.tv', 'alipay.com', \n",
    "                      'instagram.com', 'google.com.hk', 'csdn.net', 'myshopify.com', 'vk.com', 'canva.com', 'bing.com', 'microsoftonline.com', 'yahoo.co.jp', 'okezone.com', 'twitch.tv',\n",
    "                      'naver.com', 'stackoverflow.com', 'apple.com', 'bongacams.com', 'aparat.com', 'ebay.com', 'twitter.com', 'yy.com', 'adobe.com', 'tianya.cn', 'amazon.in', 'amazon.co.jp',\n",
    "                      'aliexpress.com', 'huanqiu.com', 'yandex.ru', 'linkedin.com', '17ok.com', 'coinmarketcap.com', 'chaturbate.com', 'mail.ru', 'haosou.com', 'tribunnews.com',\n",
    "                      'tradingview.com', 'wordpress.com', 'ok.ru', 'msn.com', 'google.co.in', 'chase.com', 'google.com.br', 'whatsapp.com', 'so.com', 'medium.com', 'okta.com', 'etsy.com',\n",
    "                      'instructure.com', 'amazonaws.com', 'indeed.com', 'imdb.com', 'fandom.com', 'zoho.com', 'spotify.com', 'discord.com', 'livejasmin.com', 'tiktok.com', 'rakuten.co.jp',\n",
    "                      'espn.com', 'google.de', 'google.co.jp', 'gome.com.cn', 'kompas.com', 'babytree.com', 'hao123.com', 'cnzz.com', 'pornhub.com', 'varzesh3.com', 'intuit.com', 'imgur.com',\n",
    "                      'detik.com', '163.com', 'flipkart.com', 'nytimes.com', 'savefrom.net', 'cnn.com', 'paypal.com', 'roblox.com', 'telewebion.com', 'dropbox.com', 'amazon.co.uk',\n",
    "                      'primevideo.com', 'telegram.org', 'zillow.com', 'walmart.com', 'bbc.com', 'google.cn', 'rednet.cn', 'github.com', 'wetransfer.com', 'indiatimes.com', 'grammarly.com',\n",
    "                      'daum.net', 'xhamster.com', 'tumblr.com', 'google.it', 'google.fr', '6.cn', 'bilibili.com', 'hotstar.com', '1688.com', 'ilovepdf.com', 'cnblogs.com', 'padlet.com',\n",
    "                      'google.ru', 'nih.gov', 'amazon.de', 'pixnet.net', 'booking.com', 'aliyun.com', 'stackexchange.com', 'shutterstock.com', 'salesforce.com', 'digikala.com', 'google.es',\n",
    "                      'force.com', 'healthline.com', 'wellsfargo.com', 'xvideos.com', 'soundcloud.com', 'ettoday.net', '51.la', 'tokopedia.com', 'deepl.com', 'google.com.sg', 'wix.com',\n",
    "                      'jiameng.com']"
   ]
  },
  {
   "cell_type": "code",
   "execution_count": 16,
   "metadata": {},
   "outputs": [],
   "source": [
    "i = 1\n",
    "full_list = []\n",
    "for link in qc_sites:\n",
    "    before = str(link) + '-before.png'\n",
    "    after =  str(link) + '-after.png'\n",
    "    driver.set_window_size(1280,720)\n",
    "\n",
    "    driver.get('https://' + str(link))\n",
    "    time.sleep(0.5)\n",
    "    #driver.save_screenshot('ss/' + before)\n",
    "    time.sleep(2.5)\n",
    "    #driver.save_screenshot('ss/' + after)\n",
    "\n",
    "    full = driver.find_element_by_class_name('consent-right').get_attribute(\"textContent\")\n",
    "    scrape = [i,full.count('\\n')-1]\n",
    "    i += 1\n",
    "    full_list.append(scrape)\n",
    "print(full_list)"
   ]
  },
  {
   "cell_type": "code",
   "execution_count": 17,
   "metadata": {},
   "outputs": [],
   "source": [
    "i = 1\n",
    "allow_list = []\n",
    "time.sleep(10)\n",
    "for link in qc_sites:\n",
    "    before = str(link) + '-before.png'\n",
    "    after =  str(link) + '-after.png'\n",
    "    driver.set_window_size(1280,720)\n",
    "\n",
    "    driver.get('https://' + str(link))\n",
    "    time.sleep(0.5)\n",
    "    #driver.save_screenshot('ss/' + before)\n",
    "    time.sleep(2.5)\n",
    "    #driver.save_screenshot('ss/' + after)\n",
    "\n",
    "    allow = driver.find_element_by_class_name('consent-right-allow').get_attribute(\"textContent\")\n",
    "    scrape = [i,allow.count('\\n')-1]\n",
    "    i += 1\n",
    "    allow_list.append(scrape)\n",
    "\n",
    "print(allow_list)"
   ]
  },
  {
   "cell_type": "code",
   "execution_count": 22,
   "metadata": {},
   "outputs": [],
   "source": [
    "i = 1\n",
    "ct_list = []\n",
    "time.sleep(10)\n",
    "for link in qc_sites:\n",
    "    before = str(link) + '-before.png'\n",
    "    after =  str(link) + '-after.png'\n",
    "    driver.set_window_size(1280,720)\n",
    "\n",
    "    driver.get('https://' + str(link))\n",
    "    time.sleep(0.5)\n",
    "    #driver.save_screenshot('ss/' + before)\n",
    "    time.sleep(2.5)\n",
    "    #driver.save_screenshot('ss/' + after)\n",
    "\n",
    "    ct = driver.find_element_by_class_name('consent-right-toggles').get_attribute(\"textContent\")\n",
    "    scrape = [i,ct.count('\\n')-1]\n",
    "    i += 1\n",
    "    ct_list.append(scrape)\n",
    "\n",
    "print(ct_list)"
   ]
  },
  {
   "cell_type": "code",
   "execution_count": null,
   "metadata": {},
   "outputs": [],
   "source": [
    "i = 1\n",
    "li_list = []\n",
    "time.sleep(10)\n",
    "for link in qc_sites:\n",
    "    before = str(link) + '-before.png'\n",
    "    after =  str(link) + '-after.png'\n",
    "    driver.set_window_size(1280,720)\n",
    "\n",
    "    driver.get('https://' + str(link))\n",
    "    time.sleep(0.5)\n",
    "    #driver.save_screenshot('ss/' + before)\n",
    "    time.sleep(2.5)\n",
    "    #driver.save_screenshot('ss/' + after)\n",
    "\n",
    "    li = driver.find_element_by_class_name('consent-right-li').get_attribute(\"textContent\")\n",
    "    scrape = [i,li.count('\\n')-1]\n",
    "    i += 1\n",
    "    li_list.append(scrape)\n",
    "\n",
    "print(lt_list)"
   ]
  },
  {
   "cell_type": "code",
   "execution_count": null,
   "metadata": {},
   "outputs": [],
   "source": [
    "\n",
    "driver.find_element_by_id('accept-btn').click()\n",
    "cookies = driver.get_cookies()\n",
    "print(cookies)\n",
    "driver.quit()"
   ]
  }
 ]
}